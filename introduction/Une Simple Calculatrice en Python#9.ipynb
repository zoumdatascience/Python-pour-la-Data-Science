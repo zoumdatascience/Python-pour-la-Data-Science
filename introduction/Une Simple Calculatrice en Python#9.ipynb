{
 "cells": [
  {
   "cell_type": "markdown",
   "metadata": {},
   "source": [
    "# Création d'une simple Calculatrice avec Python   "
   ]
  },
  {
   "cell_type": "markdown",
   "metadata": {},
   "source": [
    "### Les actions de notre calculatrice"
   ]
  },
  {
   "cell_type": "code",
   "execution_count": 2,
   "metadata": {},
   "outputs": [],
   "source": [
    "# Addition\n",
    "def addition(a,b):\n",
    "    return a + b\n",
    "\n",
    "# Soustraction \n",
    "def soustraction(a, b):\n",
    "    return a - b\n",
    "\n",
    "# Multiplication\n",
    "\n",
    "def multiplication(a, b):\n",
    "    return a * b\n",
    "\n",
    "# Division\n",
    "def division(a, b):\n",
    "    return a/b"
   ]
  },
  {
   "cell_type": "markdown",
   "metadata": {},
   "source": [
    "### Interactions avec utilisateur"
   ]
  },
  {
   "cell_type": "code",
   "execution_count": 5,
   "metadata": {},
   "outputs": [
    {
     "name": "stdout",
     "output_type": "stream",
     "text": [
      "Quelle opération souhaitez-vous faire ? \n",
      "1- Addition\n",
      "2- Soustraction\n",
      "3- Multiplication\n",
      "4- Division\n",
      "Votre choix s'il vous plaît: 4\n",
      "Le premier nombre : 5\n",
      "Le deuxième nombre : 0\n",
      "Opération impossible\n"
     ]
    }
   ],
   "source": [
    "print(\"Quelle opération souhaitez-vous faire ? \")\n",
    "print(\"1- Addition\")\n",
    "print(\"2- Soustraction\")\n",
    "print(\"3- Multiplication\")\n",
    "print(\"4- Division\")  \n",
    "\n",
    "choix = int(input(\"Votre choix s'il vous plaît: \"))\n",
    "val1 = int(input(\"Le premier nombre : \"))\n",
    "val2 = int(input(\"Le deuxième nombre : \"))  \n",
    "\n",
    "\n",
    "if(choix == 1):\n",
    "    print(\"Addition de {} et de {} est {}\".format(val1, val2, addition(val1, val2)))\n",
    "    \n",
    "elif(choix == 2):\n",
    "    print(\"Soustraction de {} et de {} est {}\".format(val1, val2, soustraction(val1, val2)))\n",
    "    \n",
    "elif(choix == 3):\n",
    "    print(\"Multiplication de {} et de {} est {}\".format(val1, val2, multiplication(val1, val2)))\n",
    "    \n",
    "elif(choix == 4):\n",
    "    if(val2 != 0):\n",
    "        print(\"Division de {} et de {} est {}\".format(val1, val2, division(val1, val2)))\n",
    "    else:\n",
    "        print(\"Opération impossible\")\n",
    "        \n",
    "else:\n",
    "    print(\"Désolé, il y a une erreur de saisie\")"
   ]
  },
  {
   "cell_type": "code",
   "execution_count": null,
   "metadata": {},
   "outputs": [],
   "source": []
  }
 ],
 "metadata": {
  "kernelspec": {
   "display_name": "Python 3",
   "language": "python",
   "name": "python3"
  },
  "language_info": {
   "codemirror_mode": {
    "name": "ipython",
    "version": 3
   },
   "file_extension": ".py",
   "mimetype": "text/x-python",
   "name": "python",
   "nbconvert_exporter": "python",
   "pygments_lexer": "ipython3",
   "version": "3.6.5"
  }
 },
 "nbformat": 4,
 "nbformat_minor": 2
}
