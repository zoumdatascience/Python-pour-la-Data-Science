{
 "cells": [
  {
   "cell_type": "markdown",
   "metadata": {},
   "source": [
    "# Python Entree-Sortie"
   ]
  },
  {
   "cell_type": "markdown",
   "metadata": {},
   "source": [
    "# Sortie"
   ]
  },
  {
   "cell_type": "markdown",
   "metadata": {},
   "source": [
    "On utilise la fonction print() pour afficher les données sur le système de sortie standard."
   ]
  },
  {
   "cell_type": "code",
   "execution_count": 14,
   "metadata": {},
   "outputs": [
    {
     "name": "stdout",
     "output_type": "stream",
     "text": [
      "Bonjour\n"
     ]
    }
   ],
   "source": [
    "print(\"Bonjour\")"
   ]
  },
  {
   "cell_type": "code",
   "execution_count": 15,
   "metadata": {},
   "outputs": [
    {
     "name": "stdout",
     "output_type": "stream",
     "text": [
      "La valeur de x est:  10\n"
     ]
    }
   ],
   "source": [
    "x = 10\n",
    "print(\"La valeur de x est: \", x)"
   ]
  },
  {
   "cell_type": "markdown",
   "metadata": {},
   "source": [
    "# Formatter une sortie   "
   ]
  },
  {
   "cell_type": "code",
   "execution_count": 17,
   "metadata": {},
   "outputs": [
    {
     "name": "stdout",
     "output_type": "stream",
     "text": [
      "La valeur de a est 10 et b est 20\n",
      "La valeur de b est 20 et a est 10\n"
     ]
    }
   ],
   "source": [
    "# Mes varibles\n",
    "a = 10; b = 20\n",
    "\n",
    "# Affichage par défaut\n",
    "print(\"La valeur de a est {} et b est {}\".format(a, b)) # Affichage par défaut\n",
    "\n",
    "# Spécifier les indices des variables à afficher \n",
    "print(\"La valeur de b est {1} et a est {0}\".format(a, b))"
   ]
  },
  {
   "cell_type": "code",
   "execution_count": 18,
   "metadata": {},
   "outputs": [
    {
     "name": "stdout",
     "output_type": "stream",
     "text": [
      "Salut Zoum, nous sommes samedi\n"
     ]
    }
   ],
   "source": [
    "\n",
    "# Spécifier la position des arguments. \n",
    "print(\"Salut {nom}, {info}\".format(nom=\"Zoum\", info = \"nous sommes samedi\"))"
   ]
  },
  {
   "cell_type": "code",
   "execution_count": 19,
   "metadata": {},
   "outputs": [
    {
     "name": "stdout",
     "output_type": "stream",
     "text": [
      "Nous sommes samedi, 26 octobre 2019\n"
     ]
    }
   ],
   "source": [
    "# nous pouvons combiner des arguments de position avec des arguments de mots-clés\n",
    "print(\"Nous sommes {0}, {1} {annee}\".format('samedi', '26 octobre', annee=2019))"
   ]
  },
  {
   "cell_type": "markdown",
   "metadata": {},
   "source": [
    "# Entrée"
   ]
  },
  {
   "cell_type": "markdown",
   "metadata": {},
   "source": [
    "La fonction input() de Python permet de récupérer l'information  saisie par un utilisateur"
   ]
  },
  {
   "cell_type": "code",
   "execution_count": 20,
   "metadata": {},
   "outputs": [
    {
     "name": "stdout",
     "output_type": "stream",
     "text": [
      "Quelle est l'info d'aujourd'hui? Bonjour\n",
      "Info: Bonjour\n"
     ]
    }
   ],
   "source": [
    "info= input(\"Quelle est l'info d'aujourd'hui? \")\n",
    "print(\"Info: {}\".format(info))"
   ]
  },
  {
   "cell_type": "code",
   "execution_count": null,
   "metadata": {},
   "outputs": [],
   "source": []
  }
 ],
 "metadata": {
  "kernelspec": {
   "display_name": "Python 3",
   "language": "python",
   "name": "python3"
  },
  "language_info": {
   "codemirror_mode": {
    "name": "ipython",
    "version": 3
   },
   "file_extension": ".py",
   "mimetype": "text/x-python",
   "name": "python",
   "nbconvert_exporter": "python",
   "pygments_lexer": "ipython3",
   "version": "3.6.5"
  }
 },
 "nbformat": 4,
 "nbformat_minor": 2
}
