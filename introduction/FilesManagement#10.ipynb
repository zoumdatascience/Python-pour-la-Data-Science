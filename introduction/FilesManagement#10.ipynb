{
 "cells": [
  {
   "cell_type": "markdown",
   "metadata": {},
   "source": [
    "# Les fichiers en Python   \n",
    "\n",
    "* Opération d'écriture (**w**rite) avec **w**   \n",
    "* Opération d'ajout (**a**ppend) avec **a**   \n",
    "* Opération lecture (**r**ead) avec **r**"
   ]
  },
  {
   "cell_type": "markdown",
   "metadata": {},
   "source": [
    "## Les étapes de manipulation   \n",
    "* Ouverture du fichier avec la fonction **open**    \n",
    "* Actions sur le fichier (w, a, r)  \n",
    "* Fermeture du fichier avec la fonction **close**\n",
    "\n",
    "###  1- Methode N°1   "
   ]
  },
  {
   "cell_type": "code",
   "execution_count": 4,
   "metadata": {},
   "outputs": [],
   "source": [
    "f = open(\"fichier.txt\", \"w\")\n",
    "\n",
    "for line in range(15):\n",
    "    f.write(\"Ceci est la ligne n°{}\\n\".format(line))\n",
    "    \n",
    "f.close()"
   ]
  },
  {
   "cell_type": "markdown",
   "metadata": {},
   "source": [
    "### 2- Methode N°2 : Utilisation de with"
   ]
  },
  {
   "cell_type": "code",
   "execution_count": 5,
   "metadata": {},
   "outputs": [],
   "source": [
    "with open(\"fichier.txt\", \"a\") as f:\n",
    "    for line in range(3):\n",
    "        f.write(\"# {}e nouvelle ligne ajoutée\\n\".format(line))"
   ]
  },
  {
   "cell_type": "code",
   "execution_count": 6,
   "metadata": {},
   "outputs": [
    {
     "name": "stdout",
     "output_type": "stream",
     "text": [
      "Ceci est la ligne n°0\n",
      "Ceci est la ligne n°1\n",
      "Ceci est la ligne n°2\n",
      "Ceci est la ligne n°3\n",
      "Ceci est la ligne n°4\n",
      "Ceci est la ligne n°5\n",
      "Ceci est la ligne n°6\n",
      "Ceci est la ligne n°7\n",
      "Ceci est la ligne n°8\n",
      "Ceci est la ligne n°9\n",
      "Ceci est la ligne n°10\n",
      "Ceci est la ligne n°11\n",
      "Ceci est la ligne n°12\n",
      "Ceci est la ligne n°13\n",
      "Ceci est la ligne n°14\n",
      "# 0e nouvelle ligne ajoutée\n",
      "# 1e nouvelle ligne ajoutée\n",
      "# 2e nouvelle ligne ajoutée\n",
      "\n"
     ]
    }
   ],
   "source": [
    "with open(\"fichier.txt\", \"r\") as f:\n",
    "    file_content = f.read() \n",
    "    print(file_content)"
   ]
  },
  {
   "cell_type": "code",
   "execution_count": 7,
   "metadata": {},
   "outputs": [],
   "source": [
    "import re"
   ]
  },
  {
   "cell_type": "code",
   "execution_count": 8,
   "metadata": {},
   "outputs": [
    {
     "name": "stdout",
     "output_type": "stream",
     "text": [
      "# 0e nouvelle ligne ajoutée\n",
      "\n",
      "# 1e nouvelle ligne ajoutée\n",
      "\n",
      "# 2e nouvelle ligne ajoutée\n",
      "\n"
     ]
    }
   ],
   "source": [
    "with open(\"fichier.txt\", \"r\") as f:\n",
    "    all_lines = f.readlines() \n",
    "    \n",
    "    for line in all_lines:\n",
    "        if(re.match(\"^#\", line)):\n",
    "            print(line)"
   ]
  },
  {
   "cell_type": "code",
   "execution_count": null,
   "metadata": {},
   "outputs": [],
   "source": []
  }
 ],
 "metadata": {
  "kernelspec": {
   "display_name": "Python 3",
   "language": "python",
   "name": "python3"
  },
  "language_info": {
   "codemirror_mode": {
    "name": "ipython",
    "version": 3
   },
   "file_extension": ".py",
   "mimetype": "text/x-python",
   "name": "python",
   "nbconvert_exporter": "python",
   "pygments_lexer": "ipython3",
   "version": "3.7.4"
  }
 },
 "nbformat": 4,
 "nbformat_minor": 2
}
