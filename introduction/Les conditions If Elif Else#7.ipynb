{
 "cells": [
  {
   "cell_type": "markdown",
   "metadata": {
    "colab_type": "text",
    "id": "I9BsPCXXefQ_"
   },
   "source": [
    "# Les structures conditionnelles en Python:  if...elif...else "
   ]
  },
  {
   "cell_type": "markdown",
   "metadata": {
    "colab_type": "text",
    "id": "KcH_APWeefQ_"
   },
   "source": [
    "Elles sont utilisés en python pour les prises de décisions"
   ]
  },
  {
   "cell_type": "markdown",
   "metadata": {
    "colab_type": "text",
    "id": "B4c_NjAlefRA"
   },
   "source": [
    "# 1- Syntaxe \"if \""
   ]
  },
  {
   "cell_type": "markdown",
   "metadata": {
    "colab_type": "text",
    "id": "kJmNXz9_efRB"
   },
   "source": [
    "    if(condition):\n",
    "\n",
    "        instruction(s)"
   ]
  },
  {
   "cell_type": "markdown",
   "metadata": {
    "colab_type": "text",
    "id": "5P8FX06GefRB"
   },
   "source": [
    "Le programme évalue la condition, et n'exécute les instructions que si le résultat est **True**   "
   ]
  },
  {
   "cell_type": "markdown",
   "metadata": {
    "colab_type": "text",
    "id": "Q5ARdqzUefRE"
   },
   "source": [
    "# Example   "
   ]
  },
  {
   "cell_type": "code",
   "execution_count": 2,
   "metadata": {
    "colab": {
     "autoexec": {
      "startup": false,
      "wait_interval": 0
     }
    },
    "colab_type": "code",
    "id": "6mBW6suCefRF",
    "outputId": "72e798df-efe6-44b0-a265-dcf4ed65c853"
   },
   "outputs": [
    {
     "name": "stdout",
     "output_type": "stream",
     "text": [
      "9\n"
     ]
    }
   ],
   "source": [
    "var = 10 \n",
    "if(var > 5):\n",
    "    var -= 1\n",
    "print(var)"
   ]
  },
  {
   "cell_type": "markdown",
   "metadata": {
    "colab_type": "text",
    "id": "np1GauhCefRK"
   },
   "source": [
    "# 2- Syntaxe: if ... else"
   ]
  },
  {
   "cell_type": "markdown",
   "metadata": {
    "colab_type": "text",
    "id": "y8jdfyhZefRL"
   },
   "source": [
    "    if(premier test):\n",
    "    \n",
    "        instruction(s)\n",
    "        \n",
    "    else:\n",
    "    \n",
    "        instruction(s)\n"
   ]
  },
  {
   "cell_type": "markdown",
   "metadata": {
    "colab_type": "text",
    "id": "kJe4WdEyefRN"
   },
   "source": [
    "# Example"
   ]
  },
  {
   "cell_type": "code",
   "execution_count": 3,
   "metadata": {
    "colab": {
     "autoexec": {
      "startup": false,
      "wait_interval": 0
     }
    },
    "colab_type": "code",
    "id": "pC8kDvb2efRO",
    "outputId": "bf77eac7-736c-406f-a561-c8ef8cca83c6"
   },
   "outputs": [
    {
     "name": "stdout",
     "output_type": "stream",
     "text": [
      "11\n"
     ]
    }
   ],
   "source": [
    "var = 10\n",
    "\n",
    "if(var>10):\n",
    "    var -= 1\n",
    "\n",
    "else:\n",
    "    var += 1\n",
    "\n",
    "print(var)"
   ]
  },
  {
   "cell_type": "markdown",
   "metadata": {
    "colab_type": "text",
    "id": "FhL5F5DJefRR"
   },
   "source": [
    "# 3- Syntax: if ...elif.. else"
   ]
  },
  {
   "cell_type": "markdown",
   "metadata": {
    "colab_type": "text",
    "id": "NK9FpkhiefRT"
   },
   "source": [
    "    if(premier test):\n",
    "    \n",
    "        instruction(s)\n",
    "        \n",
    "    elif (autre test):\n",
    "    \n",
    "        instruction(s)\n",
    "\n",
    "    else:\n",
    "    \n",
    "        instruction(s)"
   ]
  },
  {
   "cell_type": "markdown",
   "metadata": {
    "colab_type": "text",
    "id": "_PsCmnflefRU"
   },
   "source": [
    "# Example:"
   ]
  },
  {
   "cell_type": "code",
   "execution_count": 2,
   "metadata": {},
   "outputs": [
    {
     "name": "stdout",
     "output_type": "stream",
     "text": [
      "Quel est votre âge ? -1\n",
      "La valeur saisie est incorrecte\n"
     ]
    }
   ],
   "source": [
    "age = int(input(\"Quel est votre âge ? \"))\n",
    "\n",
    "if(age >=0 and age <=2):\n",
    "    print(\"Vous êtes un bébé :)\")\n",
    "\n",
    "elif(age>2 and age <= 12):\n",
    "    print(\"Vous êtes un enfant\")\n",
    "\n",
    "elif(age>12 and age <= 18):\n",
    "    print(\"Vous êtes un ado\")\n",
    "\n",
    "elif(age > 18 and age <= 70):\n",
    "    print(\"Vous êtes adulte\")\n",
    "\n",
    "elif(age > 70):\n",
    "    print(\"Bonjour Papi / Mami\")\n",
    "\n",
    "else:\n",
    "    print(\"La valeur saisie est incorrecte\")\n",
    "        "
   ]
  },
  {
   "cell_type": "code",
   "execution_count": null,
   "metadata": {},
   "outputs": [],
   "source": []
  }
 ],
 "metadata": {
  "colab": {
   "default_view": {},
   "name": "if-elif-else.ipynb",
   "provenance": [],
   "version": "0.3.2",
   "views": {}
  },
  "kernelspec": {
   "display_name": "Python 3",
   "language": "python",
   "name": "python3"
  },
  "language_info": {
   "codemirror_mode": {
    "name": "ipython",
    "version": 3
   },
   "file_extension": ".py",
   "mimetype": "text/x-python",
   "name": "python",
   "nbconvert_exporter": "python",
   "pygments_lexer": "ipython3",
   "version": "3.6.5"
  }
 },
 "nbformat": 4,
 "nbformat_minor": 1
}
